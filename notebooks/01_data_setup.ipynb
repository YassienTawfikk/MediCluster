{
 "cells": [
  {
   "metadata": {},
   "cell_type": "markdown",
   "source": "# Data Setup",
   "id": "d7697e9b79b60f38"
  },
  {
   "metadata": {},
   "cell_type": "markdown",
   "source": "## Imports",
   "id": "266554aa23cc9a6f"
  },
  {
   "metadata": {
    "ExecuteTime": {
     "end_time": "2025-08-09T16:09:41.574501Z",
     "start_time": "2025-08-09T16:09:41.571638Z"
    }
   },
   "cell_type": "code",
   "source": [
    "# Data Access & Management\n",
    "import kagglehub\n",
    "import pandas as pd\n",
    "import numpy as np\n",
    "\n",
    "# Project Structure\n",
    "from pathlib import Path\n",
    "import shutil\n",
    "from src.__00__paths import raw_data_dir, processed_data_dir\n",
    "\n",
    "# Machine Learning Tools\n",
    "from sklearn.preprocessing import StandardScaler\n",
    "from sklearn.decomposition import PCA\n",
    "\n",
    "# Visualization\n",
    "import matplotlib.pyplot as plt\n"
   ],
   "id": "da192187edd5d186",
   "outputs": [],
   "execution_count": 83
  },
  {
   "metadata": {},
   "cell_type": "markdown",
   "source": "## Dataset Download",
   "id": "c6e5cb98a671533"
  },
  {
   "metadata": {
    "ExecuteTime": {
     "end_time": "2025-08-09T16:09:41.592226Z",
     "start_time": "2025-08-09T16:09:41.588787Z"
    }
   },
   "cell_type": "code",
   "source": [
    "# List of files to check\n",
    "raw_dataset = raw_data_dir / \"patient_dataset.csv\"\n",
    "\n",
    "# Check and download\n",
    "if raw_dataset.exists():\n",
    "    print(\"✔️ Dataset is already downloaded.\")\n",
    "else:\n",
    "    # Download dataset\n",
    "    dataset_path = Path(kagglehub.dataset_download(\"arjunnsharma/patient-dataset-for-clustering-raw-data\"))\n",
    "\n",
    "    if not dataset_path.exists():\n",
    "        raise FileNotFoundError(\"⚠ Dataset not found.\")\n",
    "\n",
    "    # Check for an extra \"Data\" folder\n",
    "    data_root = dataset_path / \"Data\" if (dataset_path / \"Data\").exists() else dataset_path\n",
    "\n",
    "    # Copy files/folders to raw_data_dir\n",
    "    for item in data_root.iterdir():\n",
    "        target = raw_data_dir / item.name\n",
    "        if item.is_file():\n",
    "            shutil.copy2(item, target)\n",
    "\n",
    "    print(\"✔️ Dataset successfully downloaded.\")"
   ],
   "id": "7853993324b310e5",
   "outputs": [
    {
     "name": "stdout",
     "output_type": "stream",
     "text": [
      "✔️ Dataset is already downloaded.\n"
     ]
    }
   ],
   "execution_count": 84
  },
  {
   "metadata": {},
   "cell_type": "markdown",
   "source": "## Load Datasets",
   "id": "2f96c323206544e2"
  },
  {
   "metadata": {
    "ExecuteTime": {
     "end_time": "2025-08-09T16:09:41.609819Z",
     "start_time": "2025-08-09T16:09:41.601386Z"
    }
   },
   "cell_type": "code",
   "source": "raw_df = pd.read_csv(raw_dataset)",
   "id": "bb57ce44f0659b10",
   "outputs": [],
   "execution_count": 85
  },
  {
   "metadata": {},
   "cell_type": "markdown",
   "source": "## Dataset Augmentation",
   "id": "14a90fb9ae5f4d6c"
  },
  {
   "metadata": {
    "ExecuteTime": {
     "end_time": "2025-08-09T16:09:41.623444Z",
     "start_time": "2025-08-09T16:09:41.614722Z"
    }
   },
   "cell_type": "code",
   "source": [
    "print(\"Shape:\", raw_df.shape)\n",
    "\n",
    "# NaN counts per column\n",
    "nan_cnt = raw_df.isna().sum()\n",
    "\n",
    "# 'Unknown' count aligned to columns (zeros except smoking_status)\n",
    "unknown_cnt = pd.Series(0, index=raw_df.columns)\n",
    "if 'smoking_status' in raw_df.columns:\n",
    "    unknown_cnt['smoking_status'] = (\n",
    "        raw_df['smoking_status'].astype(str).str.strip().str.lower().eq('unknown').sum()\n",
    "    )\n",
    "\n",
    "# Combine into one table\n",
    "gaps = pd.DataFrame({\n",
    "    \"NaN\": nan_cnt,\n",
    "    \"'Unknown' (smoking_status)\": unknown_cnt\n",
    "})\n",
    "gaps[\"Total gaps\"] = gaps[\"NaN\"] + gaps[\"'Unknown' (smoking_status)\"]\n",
    "gaps[\"% of rows (total)\"] = (gaps[\"Total gaps\"] / len(raw_df) * 100).round(2)\n",
    "\n",
    "# Sort by most problematic\n",
    "gaps = gaps.sort_values(\"Total gaps\", ascending=False)\n",
    "gaps.drop(columns=[\"NaN\", \"'Unknown' (smoking_status)\"], inplace=True)\n",
    "display(gaps)\n"
   ],
   "id": "b2b2e126312ae7bb",
   "outputs": [
    {
     "name": "stdout",
     "output_type": "stream",
     "text": [
      "Shape: (6000, 16)\n"
     ]
    },
    {
     "data": {
      "text/plain": [
       "                   Total gaps  % of rows (total)\n",
       "skin_thickness            614              10.23\n",
       "plasma_glucose            609              10.15\n",
       "insulin                   568               9.47\n",
       "smoking_status            476               7.93\n",
       "gender                    472               7.87\n",
       "residence_type            455               7.58\n",
       "age                         0               0.00\n",
       "chest_pain_type             0               0.00\n",
       "blood_pressure              0               0.00\n",
       "cholesterol                 0               0.00\n",
       "max_heart_rate              0               0.00\n",
       "exercise_angina             0               0.00\n",
       "bmi                         0               0.00\n",
       "diabetes_pedigree           0               0.00\n",
       "hypertension                0               0.00\n",
       "heart_disease               0               0.00"
      ],
      "text/html": [
       "<div>\n",
       "<style scoped>\n",
       "    .dataframe tbody tr th:only-of-type {\n",
       "        vertical-align: middle;\n",
       "    }\n",
       "\n",
       "    .dataframe tbody tr th {\n",
       "        vertical-align: top;\n",
       "    }\n",
       "\n",
       "    .dataframe thead th {\n",
       "        text-align: right;\n",
       "    }\n",
       "</style>\n",
       "<table border=\"1\" class=\"dataframe\">\n",
       "  <thead>\n",
       "    <tr style=\"text-align: right;\">\n",
       "      <th></th>\n",
       "      <th>Total gaps</th>\n",
       "      <th>% of rows (total)</th>\n",
       "    </tr>\n",
       "  </thead>\n",
       "  <tbody>\n",
       "    <tr>\n",
       "      <th>skin_thickness</th>\n",
       "      <td>614</td>\n",
       "      <td>10.23</td>\n",
       "    </tr>\n",
       "    <tr>\n",
       "      <th>plasma_glucose</th>\n",
       "      <td>609</td>\n",
       "      <td>10.15</td>\n",
       "    </tr>\n",
       "    <tr>\n",
       "      <th>insulin</th>\n",
       "      <td>568</td>\n",
       "      <td>9.47</td>\n",
       "    </tr>\n",
       "    <tr>\n",
       "      <th>smoking_status</th>\n",
       "      <td>476</td>\n",
       "      <td>7.93</td>\n",
       "    </tr>\n",
       "    <tr>\n",
       "      <th>gender</th>\n",
       "      <td>472</td>\n",
       "      <td>7.87</td>\n",
       "    </tr>\n",
       "    <tr>\n",
       "      <th>residence_type</th>\n",
       "      <td>455</td>\n",
       "      <td>7.58</td>\n",
       "    </tr>\n",
       "    <tr>\n",
       "      <th>age</th>\n",
       "      <td>0</td>\n",
       "      <td>0.00</td>\n",
       "    </tr>\n",
       "    <tr>\n",
       "      <th>chest_pain_type</th>\n",
       "      <td>0</td>\n",
       "      <td>0.00</td>\n",
       "    </tr>\n",
       "    <tr>\n",
       "      <th>blood_pressure</th>\n",
       "      <td>0</td>\n",
       "      <td>0.00</td>\n",
       "    </tr>\n",
       "    <tr>\n",
       "      <th>cholesterol</th>\n",
       "      <td>0</td>\n",
       "      <td>0.00</td>\n",
       "    </tr>\n",
       "    <tr>\n",
       "      <th>max_heart_rate</th>\n",
       "      <td>0</td>\n",
       "      <td>0.00</td>\n",
       "    </tr>\n",
       "    <tr>\n",
       "      <th>exercise_angina</th>\n",
       "      <td>0</td>\n",
       "      <td>0.00</td>\n",
       "    </tr>\n",
       "    <tr>\n",
       "      <th>bmi</th>\n",
       "      <td>0</td>\n",
       "      <td>0.00</td>\n",
       "    </tr>\n",
       "    <tr>\n",
       "      <th>diabetes_pedigree</th>\n",
       "      <td>0</td>\n",
       "      <td>0.00</td>\n",
       "    </tr>\n",
       "    <tr>\n",
       "      <th>hypertension</th>\n",
       "      <td>0</td>\n",
       "      <td>0.00</td>\n",
       "    </tr>\n",
       "    <tr>\n",
       "      <th>heart_disease</th>\n",
       "      <td>0</td>\n",
       "      <td>0.00</td>\n",
       "    </tr>\n",
       "  </tbody>\n",
       "</table>\n",
       "</div>"
      ]
     },
     "metadata": {},
     "output_type": "display_data"
    }
   ],
   "execution_count": 86
  },
  {
   "metadata": {
    "ExecuteTime": {
     "end_time": "2025-08-09T16:09:41.641026Z",
     "start_time": "2025-08-09T16:09:41.634884Z"
    }
   },
   "cell_type": "code",
   "source": [
    "# Start from raw\n",
    "df = raw_df.copy()\n",
    "df.head()"
   ],
   "id": "eca65b6a8c0cb4d9",
   "outputs": [
    {
     "data": {
      "text/plain": [
       "   age  gender  chest_pain_type  blood_pressure  cholesterol  max_heart_rate  \\\n",
       "0   24     1.0                4             250          139             212   \n",
       "1   29     0.0                4             132          187             147   \n",
       "2   46     0.0                3             271          185             193   \n",
       "3   73     NaN                2             102          200             125   \n",
       "4   49     1.0                3              91          163             192   \n",
       "\n",
       "   exercise_angina  plasma_glucose  skin_thickness  insulin        bmi  \\\n",
       "0                0           108.0            33.0    109.0  37.999303   \n",
       "1                0           202.0            42.0      NaN  25.588346   \n",
       "2                0           149.0            43.0    102.0  37.892029   \n",
       "3                0           105.0            77.0    165.0  18.660241   \n",
       "4                0           162.0            31.0    170.0  12.767980   \n",
       "\n",
       "   diabetes_pedigree  hypertension  heart_disease residence_type  \\\n",
       "0           0.480277             1              1          Urban   \n",
       "1           0.283986             1              1          Urban   \n",
       "2           2.472309             1              0          Rural   \n",
       "3           1.472052             0              1          Rural   \n",
       "4           0.537627             1              1          Rural   \n",
       "\n",
       "  smoking_status  \n",
       "0         Smoker  \n",
       "1        Unknown  \n",
       "2     Non-Smoker  \n",
       "3         Smoker  \n",
       "4         Smoker  "
      ],
      "text/html": [
       "<div>\n",
       "<style scoped>\n",
       "    .dataframe tbody tr th:only-of-type {\n",
       "        vertical-align: middle;\n",
       "    }\n",
       "\n",
       "    .dataframe tbody tr th {\n",
       "        vertical-align: top;\n",
       "    }\n",
       "\n",
       "    .dataframe thead th {\n",
       "        text-align: right;\n",
       "    }\n",
       "</style>\n",
       "<table border=\"1\" class=\"dataframe\">\n",
       "  <thead>\n",
       "    <tr style=\"text-align: right;\">\n",
       "      <th></th>\n",
       "      <th>age</th>\n",
       "      <th>gender</th>\n",
       "      <th>chest_pain_type</th>\n",
       "      <th>blood_pressure</th>\n",
       "      <th>cholesterol</th>\n",
       "      <th>max_heart_rate</th>\n",
       "      <th>exercise_angina</th>\n",
       "      <th>plasma_glucose</th>\n",
       "      <th>skin_thickness</th>\n",
       "      <th>insulin</th>\n",
       "      <th>bmi</th>\n",
       "      <th>diabetes_pedigree</th>\n",
       "      <th>hypertension</th>\n",
       "      <th>heart_disease</th>\n",
       "      <th>residence_type</th>\n",
       "      <th>smoking_status</th>\n",
       "    </tr>\n",
       "  </thead>\n",
       "  <tbody>\n",
       "    <tr>\n",
       "      <th>0</th>\n",
       "      <td>24</td>\n",
       "      <td>1.0</td>\n",
       "      <td>4</td>\n",
       "      <td>250</td>\n",
       "      <td>139</td>\n",
       "      <td>212</td>\n",
       "      <td>0</td>\n",
       "      <td>108.0</td>\n",
       "      <td>33.0</td>\n",
       "      <td>109.0</td>\n",
       "      <td>37.999303</td>\n",
       "      <td>0.480277</td>\n",
       "      <td>1</td>\n",
       "      <td>1</td>\n",
       "      <td>Urban</td>\n",
       "      <td>Smoker</td>\n",
       "    </tr>\n",
       "    <tr>\n",
       "      <th>1</th>\n",
       "      <td>29</td>\n",
       "      <td>0.0</td>\n",
       "      <td>4</td>\n",
       "      <td>132</td>\n",
       "      <td>187</td>\n",
       "      <td>147</td>\n",
       "      <td>0</td>\n",
       "      <td>202.0</td>\n",
       "      <td>42.0</td>\n",
       "      <td>NaN</td>\n",
       "      <td>25.588346</td>\n",
       "      <td>0.283986</td>\n",
       "      <td>1</td>\n",
       "      <td>1</td>\n",
       "      <td>Urban</td>\n",
       "      <td>Unknown</td>\n",
       "    </tr>\n",
       "    <tr>\n",
       "      <th>2</th>\n",
       "      <td>46</td>\n",
       "      <td>0.0</td>\n",
       "      <td>3</td>\n",
       "      <td>271</td>\n",
       "      <td>185</td>\n",
       "      <td>193</td>\n",
       "      <td>0</td>\n",
       "      <td>149.0</td>\n",
       "      <td>43.0</td>\n",
       "      <td>102.0</td>\n",
       "      <td>37.892029</td>\n",
       "      <td>2.472309</td>\n",
       "      <td>1</td>\n",
       "      <td>0</td>\n",
       "      <td>Rural</td>\n",
       "      <td>Non-Smoker</td>\n",
       "    </tr>\n",
       "    <tr>\n",
       "      <th>3</th>\n",
       "      <td>73</td>\n",
       "      <td>NaN</td>\n",
       "      <td>2</td>\n",
       "      <td>102</td>\n",
       "      <td>200</td>\n",
       "      <td>125</td>\n",
       "      <td>0</td>\n",
       "      <td>105.0</td>\n",
       "      <td>77.0</td>\n",
       "      <td>165.0</td>\n",
       "      <td>18.660241</td>\n",
       "      <td>1.472052</td>\n",
       "      <td>0</td>\n",
       "      <td>1</td>\n",
       "      <td>Rural</td>\n",
       "      <td>Smoker</td>\n",
       "    </tr>\n",
       "    <tr>\n",
       "      <th>4</th>\n",
       "      <td>49</td>\n",
       "      <td>1.0</td>\n",
       "      <td>3</td>\n",
       "      <td>91</td>\n",
       "      <td>163</td>\n",
       "      <td>192</td>\n",
       "      <td>0</td>\n",
       "      <td>162.0</td>\n",
       "      <td>31.0</td>\n",
       "      <td>170.0</td>\n",
       "      <td>12.767980</td>\n",
       "      <td>0.537627</td>\n",
       "      <td>1</td>\n",
       "      <td>1</td>\n",
       "      <td>Rural</td>\n",
       "      <td>Smoker</td>\n",
       "    </tr>\n",
       "  </tbody>\n",
       "</table>\n",
       "</div>"
      ]
     },
     "execution_count": 87,
     "metadata": {},
     "output_type": "execute_result"
    }
   ],
   "execution_count": 87
  },
  {
   "metadata": {},
   "cell_type": "markdown",
   "source": "### Feature Imputation",
   "id": "95a48060414e3324"
  },
  {
   "metadata": {},
   "cell_type": "markdown",
   "source": "#### Smoking Status Feature",
   "id": "20a4f04e2b4c796c"
  },
  {
   "metadata": {
    "ExecuteTime": {
     "end_time": "2025-08-09T16:09:41.693135Z",
     "start_time": "2025-08-09T16:09:41.690293Z"
    }
   },
   "cell_type": "code",
   "source": [
    "# Smoking Status\n",
    "df['smoker'] = df['smoking_status'].map({\"Smoker\": 1, \"Non-Smoker\": -1, \"Unknown\": 0})\n",
    "df.drop(columns=['smoking_status'], inplace=True)"
   ],
   "id": "79a13b6b1f4616e6",
   "outputs": [],
   "execution_count": 88
  },
  {
   "metadata": {},
   "cell_type": "markdown",
   "source": [
    "#### Gender Feature & Resistance Rural\n",
    "\n",
    "* Fill with the Most Frequent Ratio for Both as it's almost ~7-8% Gap"
   ],
   "id": "6ad1cecffd74af2c"
  },
  {
   "metadata": {
    "ExecuteTime": {
     "end_time": "2025-08-09T16:09:41.730985Z",
     "start_time": "2025-08-09T16:09:41.727317Z"
    }
   },
   "cell_type": "code",
   "source": [
    "most_freq_gender = df['gender'].mode(dropna=True)[0]\n",
    "df['gender'] = df['gender'].fillna(most_freq_gender)\n",
    "df['gender'] = df['gender'].astype(int)\n",
    "\n",
    "most_freq_residence = df['residence_type'].mode(dropna=True)[0]\n",
    "df['residence_type'] = df['residence_type'].fillna(most_freq_residence)\n",
    "df['residence_type'] = df['residence_type'].map({'Urban': 0, 'Rural': 1})"
   ],
   "id": "36384297ad9e6232",
   "outputs": [],
   "execution_count": 89
  },
  {
   "metadata": {},
   "cell_type": "markdown",
   "source": [
    "#### Regression Features [Skin Thickness - Plasma Glucose - Insulin]\n",
    "* We use median fill as it's robust, ignores how far the extreme values are and just finds the middle rank"
   ],
   "id": "264a3669b604ad73"
  },
  {
   "metadata": {
    "ExecuteTime": {
     "end_time": "2025-08-09T16:09:41.748080Z",
     "start_time": "2025-08-09T16:09:41.745129Z"
    }
   },
   "cell_type": "code",
   "source": [
    "regression_features = ['skin_thickness', 'plasma_glucose', 'insulin']\n",
    "for column in regression_features:\n",
    "    median = df[column].median()\n",
    "    df[column] = df[column].fillna(median)"
   ],
   "id": "a068a59bb9cf0aa6",
   "outputs": [],
   "execution_count": 90
  },
  {
   "metadata": {
    "ExecuteTime": {
     "end_time": "2025-08-09T16:09:41.758378Z",
     "start_time": "2025-08-09T16:09:41.756554Z"
    }
   },
   "cell_type": "code",
   "source": "print(\"Shape:\", df.shape)",
   "id": "478ba4212c661cef",
   "outputs": [
    {
     "name": "stdout",
     "output_type": "stream",
     "text": [
      "Shape: (6000, 16)\n"
     ]
    }
   ],
   "execution_count": 91
  },
  {
   "metadata": {},
   "cell_type": "markdown",
   "source": "## Save Clean Data",
   "id": "ead71c53bf105eac"
  },
  {
   "metadata": {
    "ExecuteTime": {
     "end_time": "2025-08-09T16:09:41.785768Z",
     "start_time": "2025-08-09T16:09:41.766075Z"
    }
   },
   "cell_type": "code",
   "source": [
    "clean_path = processed_data_dir / \"clean_preScaled_data.csv\"\n",
    "df.to_csv(clean_path, index=False)\n",
    "print(f\"✔️ Clean (pre-scaled) saved → {'/'.join(clean_path.parts[-3:])}\")"
   ],
   "id": "9974724911748f1b",
   "outputs": [
    {
     "name": "stdout",
     "output_type": "stream",
     "text": [
      "✔️ Clean (pre-scaled) saved → data/processed/clean_preScaled_data.csv\n"
     ]
    }
   ],
   "execution_count": 92
  },
  {
   "metadata": {},
   "cell_type": "markdown",
   "source": "## Feature Normalizing",
   "id": "7a6d5db127d68f88"
  },
  {
   "metadata": {
    "ExecuteTime": {
     "end_time": "2025-08-09T16:09:41.814371Z",
     "start_time": "2025-08-09T16:09:41.801761Z"
    }
   },
   "cell_type": "code",
   "source": [
    "scaler = StandardScaler()\n",
    "\n",
    "df = pd.DataFrame(scaler.fit_transform(df), columns=df.columns)\n",
    "\n",
    "# Check results\n",
    "print(df.describe().T[['mean', 'std']])"
   ],
   "id": "35c44f72bb846a37",
   "outputs": [
    {
     "name": "stdout",
     "output_type": "stream",
     "text": [
      "                           mean       std\n",
      "age               -1.379637e-16  1.000083\n",
      "gender            -6.158037e-17  1.000083\n",
      "chest_pain_type    3.434290e-17  1.000083\n",
      "blood_pressure     1.634248e-16  1.000083\n",
      "cholesterol        2.303343e-16  1.000083\n",
      "max_heart_rate    -2.202682e-16  1.000083\n",
      "exercise_angina    3.286260e-17  1.000083\n",
      "plasma_glucose    -6.158037e-17  1.000083\n",
      "skin_thickness    -1.302662e-17  1.000083\n",
      "insulin            2.318146e-16  1.000083\n",
      "bmi                1.018445e-16  1.000083\n",
      "diabetes_pedigree -7.194245e-17  1.000083\n",
      "hypertension      -2.486900e-17  1.000083\n",
      "heart_disease      6.454097e-17  1.000083\n",
      "residence_type    -6.276461e-17  1.000083\n",
      "smoker             1.184238e-18  1.000083\n"
     ]
    }
   ],
   "execution_count": 93
  },
  {
   "metadata": {},
   "cell_type": "markdown",
   "source": "## Feature Weighting",
   "id": "9460a4e2d85b80e"
  },
  {
   "metadata": {
    "ExecuteTime": {
     "end_time": "2025-08-09T16:09:41.829590Z",
     "start_time": "2025-08-09T16:09:41.825672Z"
    }
   },
   "cell_type": "code",
   "source": [
    "# Define feature weights\n",
    "weights = {\n",
    "    # High importance\n",
    "    'plasma_glucose': 1.8,\n",
    "    'blood_pressure': 1.8,\n",
    "    'cholesterol': 1.8,\n",
    "    'bmi': 1.8,\n",
    "    'hypertension': 1.8,\n",
    "    'heart_disease': 1.8,\n",
    "\n",
    "    # Medium importance\n",
    "    'chest_pain_type': 1.3,\n",
    "    'exercise_angina': 1.3,\n",
    "    'max_heart_rate': 1.3,\n",
    "    'insulin': 1.3,\n",
    "}\n",
    "for col, val in weights.items():\n",
    "    df[col] *= val"
   ],
   "id": "8c81c1d9e06bcb97",
   "outputs": [],
   "execution_count": 94
  },
  {
   "metadata": {},
   "cell_type": "markdown",
   "source": "## Dimensionality Reduction",
   "id": "737de9392d7d53cf"
  },
  {
   "metadata": {
    "ExecuteTime": {
     "end_time": "2025-08-09T16:09:41.884053Z",
     "start_time": "2025-08-09T16:09:41.832476Z"
    }
   },
   "cell_type": "code",
   "source": [
    "pca = PCA()\n",
    "pca.fit(df)\n",
    "\n",
    "# Calculate explained variance ratio\n",
    "explained_var = np.cumsum(pca.explained_variance_ratio_)\n",
    "\n",
    "# Plot cumulative explained variance\n",
    "plt.figure(figsize=(8, 5))\n",
    "plt.plot(range(1, len(explained_var) + 1), explained_var, marker='o')\n",
    "plt.axhline(y=0.95, color='r', linestyle='--')\n",
    "plt.xlabel('Number of Components')\n",
    "plt.ylabel('Cumulative Explained Variance')\n",
    "plt.title('PCA - Cumulative Variance Explained')\n",
    "plt.grid(True)\n",
    "plt.show()\n",
    "\n",
    "# Choose number of components to keep 95% variance\n",
    "n_components = np.argmax(explained_var >= 0.95) + 1\n",
    "print(f\"Number of components to keep 95% variance: {n_components}\")\n",
    "\n",
    "# Transform dataset to reduced dimensions\n",
    "pca = PCA(n_components=n_components)\n",
    "df_pca = pca.fit_transform(df)"
   ],
   "id": "20c3fe0cc4a5c5f1",
   "outputs": [
    {
     "data": {
      "text/plain": [
       "<Figure size 800x500 with 1 Axes>"
      ],
      "image/png": "[encoded data removed]"
     },
     "metadata": {},
     "output_type": "display_data"
    },
    {
     "name": "stdout",
     "output_type": "stream",
     "text": [
      "Number of components to keep 95% variance: 15\n"
     ]
    }
   ],
   "execution_count": 95
  },
  {
   "metadata": {},
   "cell_type": "markdown",
   "source": [
    "> PCA show that 95% of the variance is explained by 15/16 components.\n",
    "> which is high so we can keep all the components.\n"
   ],
   "id": "1e934838e4468521"
  },
  {
   "metadata": {},
   "cell_type": "markdown",
   "source": "## Save Processed Data",
   "id": "ed8a2b09753267d6"
  },
  {
   "metadata": {
    "ExecuteTime": {
     "end_time": "2025-08-09T16:09:42.009165Z",
     "start_time": "2025-08-09T16:09:41.899259Z"
    }
   },
   "cell_type": "code",
   "source": [
    "processed_data_path = processed_data_dir / \"processed_patients_dataset.csv\"\n",
    "df.to_csv(processed_data_path, index=False)\n",
    "print(f\"✔️ Processed data saved → {'/'.join(processed_data_path.parts[-3:])}\")\n",
    "df.head()"
   ],
   "id": "56ea6de5c04cf254",
   "outputs": [
    {
     "name": "stdout",
     "output_type": "stream",
     "text": [
      "✔️ Processed data saved → data/processed/processed_patients_dataset.csv\n"
     ]
    },
    {
     "data": {
      "text/plain": [
       "        age    gender  chest_pain_type  blood_pressure  cholesterol  \\\n",
       "0 -1.411160  1.086750         1.713514        4.312744    -2.413512   \n",
       "1 -1.173253 -0.920175         1.713514       -0.084865    -0.778264   \n",
       "2 -0.364370 -0.920175         0.556906        5.095369    -0.846400   \n",
       "3  0.920327 -0.920175        -0.599701       -1.202901    -0.335385   \n",
       "4 -0.221626  1.086750         0.556906       -1.612848    -1.595888   \n",
       "\n",
       "   max_heart_rate  exercise_angina  plasma_glucose  skin_thickness   insulin  \\\n",
       "0        1.998757         -1.30826       -1.927143       -1.223635 -0.961099   \n",
       "1        0.059780         -1.30826        1.477383       -0.815278 -0.025465   \n",
       "2        1.431979         -1.30826       -0.442190       -0.769905 -1.288572   \n",
       "3       -0.596489         -1.30826       -2.035798        0.772778  1.658677   \n",
       "4        1.402149         -1.30826        0.028649       -1.314381  1.892586   \n",
       "\n",
       "        bmi  diabetes_pedigree  hypertension  heart_disease  residence_type  \\\n",
       "0  1.247612          -1.180427      1.795206       1.806612       -0.925128   \n",
       "1 -0.674010          -1.464958      1.795206       1.806612       -0.925128   \n",
       "2  1.231002           1.707102      1.795206      -1.793412        1.080932   \n",
       "3 -1.746706           0.257191     -1.804806       1.806612        1.080932   \n",
       "4 -2.659021          -1.097297      1.795206       1.806612        1.080932   \n",
       "\n",
       "     smoker  \n",
       "0  1.033893  \n",
       "1 -0.008338  \n",
       "2 -1.050569  \n",
       "3  1.033893  \n",
       "4  1.033893  "
      ],
      "text/html": [
       "<div>\n",
       "<style scoped>\n",
       "    .dataframe tbody tr th:only-of-type {\n",
       "        vertical-align: middle;\n",
       "    }\n",
       "\n",
       "    .dataframe tbody tr th {\n",
       "        vertical-align: top;\n",
       "    }\n",
       "\n",
       "    .dataframe thead th {\n",
       "        text-align: right;\n",
       "    }\n",
       "</style>\n",
       "<table border=\"1\" class=\"dataframe\">\n",
       "  <thead>\n",
       "    <tr style=\"text-align: right;\">\n",
       "      <th></th>\n",
       "      <th>age</th>\n",
       "      <th>gender</th>\n",
       "      <th>chest_pain_type</th>\n",
       "      <th>blood_pressure</th>\n",
       "      <th>cholesterol</th>\n",
       "      <th>max_heart_rate</th>\n",
       "      <th>exercise_angina</th>\n",
       "      <th>plasma_glucose</th>\n",
       "      <th>skin_thickness</th>\n",
       "      <th>insulin</th>\n",
       "      <th>bmi</th>\n",
       "      <th>diabetes_pedigree</th>\n",
       "      <th>hypertension</th>\n",
       "      <th>heart_disease</th>\n",
       "      <th>residence_type</th>\n",
       "      <th>smoker</th>\n",
       "    </tr>\n",
       "  </thead>\n",
       "  <tbody>\n",
       "    <tr>\n",
       "      <th>0</th>\n",
       "      <td>-1.411160</td>\n",
       "      <td>1.086750</td>\n",
       "      <td>1.713514</td>\n",
       "      <td>4.312744</td>\n",
       "      <td>-2.413512</td>\n",
       "      <td>1.998757</td>\n",
       "      <td>-1.30826</td>\n",
       "      <td>-1.927143</td>\n",
       "      <td>-1.223635</td>\n",
       "      <td>-0.961099</td>\n",
       "      <td>1.247612</td>\n",
       "      <td>-1.180427</td>\n",
       "      <td>1.795206</td>\n",
       "      <td>1.806612</td>\n",
       "      <td>-0.925128</td>\n",
       "      <td>1.033893</td>\n",
       "    </tr>\n",
       "    <tr>\n",
       "      <th>1</th>\n",
       "      <td>-1.173253</td>\n",
       "      <td>-0.920175</td>\n",
       "      <td>1.713514</td>\n",
       "      <td>-0.084865</td>\n",
       "      <td>-0.778264</td>\n",
       "      <td>0.059780</td>\n",
       "      <td>-1.30826</td>\n",
       "      <td>1.477383</td>\n",
       "      <td>-0.815278</td>\n",
       "      <td>-0.025465</td>\n",
       "      <td>-0.674010</td>\n",
       "      <td>-1.464958</td>\n",
       "      <td>1.795206</td>\n",
       "      <td>1.806612</td>\n",
       "      <td>-0.925128</td>\n",
       "      <td>-0.008338</td>\n",
       "    </tr>\n",
       "    <tr>\n",
       "      <th>2</th>\n",
       "      <td>-0.364370</td>\n",
       "      <td>-0.920175</td>\n",
       "      <td>0.556906</td>\n",
       "      <td>5.095369</td>\n",
       "      <td>-0.846400</td>\n",
       "      <td>1.431979</td>\n",
       "      <td>-1.30826</td>\n",
       "      <td>-0.442190</td>\n",
       "      <td>-0.769905</td>\n",
       "      <td>-1.288572</td>\n",
       "      <td>1.231002</td>\n",
       "      <td>1.707102</td>\n",
       "      <td>1.795206</td>\n",
       "      <td>-1.793412</td>\n",
       "      <td>1.080932</td>\n",
       "      <td>-1.050569</td>\n",
       "    </tr>\n",
       "    <tr>\n",
       "      <th>3</th>\n",
       "      <td>0.920327</td>\n",
       "      <td>-0.920175</td>\n",
       "      <td>-0.599701</td>\n",
       "      <td>-1.202901</td>\n",
       "      <td>-0.335385</td>\n",
       "      <td>-0.596489</td>\n",
       "      <td>-1.30826</td>\n",
       "      <td>-2.035798</td>\n",
       "      <td>0.772778</td>\n",
       "      <td>1.658677</td>\n",
       "      <td>-1.746706</td>\n",
       "      <td>0.257191</td>\n",
       "      <td>-1.804806</td>\n",
       "      <td>1.806612</td>\n",
       "      <td>1.080932</td>\n",
       "      <td>1.033893</td>\n",
       "    </tr>\n",
       "    <tr>\n",
       "      <th>4</th>\n",
       "      <td>-0.221626</td>\n",
       "      <td>1.086750</td>\n",
       "      <td>0.556906</td>\n",
       "      <td>-1.612848</td>\n",
       "      <td>-1.595888</td>\n",
       "      <td>1.402149</td>\n",
       "      <td>-1.30826</td>\n",
       "      <td>0.028649</td>\n",
       "      <td>-1.314381</td>\n",
       "      <td>1.892586</td>\n",
       "      <td>-2.659021</td>\n",
       "      <td>-1.097297</td>\n",
       "      <td>1.795206</td>\n",
       "      <td>1.806612</td>\n",
       "      <td>1.080932</td>\n",
       "      <td>1.033893</td>\n",
       "    </tr>\n",
       "  </tbody>\n",
       "</table>\n",
       "</div>"
      ]
     },
     "execution_count": 96,
     "metadata": {},
     "output_type": "execute_result"
    }
   ],
   "execution_count": 96
  }
 ],
 "metadata": {
  "kernelspec": {
   "display_name": "Python 3",
   "language": "python",
   "name": "python3"
  },
  "language_info": {
   "codemirror_mode": {
    "name": "ipython",
    "version": 2
   },
   "file_extension": ".py",
   "mimetype": "text/x-python",
   "name": "python",
   "nbconvert_exporter": "python",
   "pygments_lexer": "ipython2",
   "version": "2.7.6"
  }
 },
 "nbformat": 4,
 "nbformat_minor": 5
}
